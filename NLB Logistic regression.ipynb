{
 "cells": [
  {
   "cell_type": "code",
   "execution_count": 1,
   "id": "9129dd1b",
   "metadata": {},
   "outputs": [],
   "source": [
    "import findspark"
   ]
  },
  {
   "cell_type": "code",
   "execution_count": 2,
   "id": "9c53f3a4",
   "metadata": {},
   "outputs": [],
   "source": [
    "findspark.init('/home/dhruva_stark/spark-3.4.1-bin-hadoop3')"
   ]
  },
  {
   "cell_type": "code",
   "execution_count": 3,
   "id": "97b3a7e4",
   "metadata": {},
   "outputs": [],
   "source": [
    "import pyspark"
   ]
  },
  {
   "cell_type": "code",
   "execution_count": 4,
   "id": "64d32279",
   "metadata": {},
   "outputs": [],
   "source": [
    "from pyspark.sql import SparkSession"
   ]
  },
  {
   "cell_type": "code",
   "execution_count": 5,
   "id": "28ad1d8b",
   "metadata": {},
   "outputs": [
    {
     "name": "stderr",
     "output_type": "stream",
     "text": [
      "23/07/12 18:37:59 WARN Utils: Your hostname, linux resolves to a loopback address: 127.0.1.1; using 10.0.2.15 instead (on interface enp0s3)\n",
      "23/07/12 18:37:59 WARN Utils: Set SPARK_LOCAL_IP if you need to bind to another address\n",
      "Setting default log level to \"WARN\".\n",
      "To adjust logging level use sc.setLogLevel(newLevel). For SparkR, use setLogLevel(newLevel).\n",
      "23/07/12 18:38:00 WARN NativeCodeLoader: Unable to load native-hadoop library for your platform... using builtin-java classes where applicable\n",
      "23/07/12 18:38:02 WARN Utils: Service 'SparkUI' could not bind on port 4040. Attempting port 4041.\n",
      "23/07/12 18:38:02 WARN Utils: Service 'SparkUI' could not bind on port 4041. Attempting port 4042.\n"
     ]
    }
   ],
   "source": [
    "spark=SparkSession.builder.appName('nlp').getOrCreate()"
   ]
  },
  {
   "cell_type": "code",
   "execution_count": 6,
   "id": "2355d4d0",
   "metadata": {},
   "outputs": [
    {
     "name": "stderr",
     "output_type": "stream",
     "text": [
      "                                                                                \r"
     ]
    }
   ],
   "source": [
    "data=spark.read.csv('smsspamcollection/SMSSpamCollection',inferSchema=True,sep='\\t')"
   ]
  },
  {
   "cell_type": "code",
   "execution_count": 7,
   "id": "a6e42365",
   "metadata": {},
   "outputs": [],
   "source": [
    "data=data.withColumnRenamed('_c0','class').withColumnRenamed('_c1','text')"
   ]
  },
  {
   "cell_type": "code",
   "execution_count": 8,
   "id": "93bd2984",
   "metadata": {},
   "outputs": [
    {
     "name": "stdout",
     "output_type": "stream",
     "text": [
      "+-----+--------------------+\n",
      "|class|                text|\n",
      "+-----+--------------------+\n",
      "|  ham|Go until jurong p...|\n",
      "|  ham|Ok lar... Joking ...|\n",
      "| spam|Free entry in 2 a...|\n",
      "|  ham|U dun say so earl...|\n",
      "|  ham|Nah I don't think...|\n",
      "| spam|FreeMsg Hey there...|\n",
      "|  ham|Even my brother i...|\n",
      "|  ham|As per your reque...|\n",
      "| spam|WINNER!! As a val...|\n",
      "| spam|Had your mobile 1...|\n",
      "|  ham|I'm gonna be home...|\n",
      "| spam|SIX chances to wi...|\n",
      "| spam|URGENT! You have ...|\n",
      "|  ham|I've been searchi...|\n",
      "|  ham|I HAVE A DATE ON ...|\n",
      "| spam|XXXMobileMovieClu...|\n",
      "|  ham|Oh k...i'm watchi...|\n",
      "|  ham|Eh u remember how...|\n",
      "|  ham|Fine if thats th...|\n",
      "| spam|England v Macedon...|\n",
      "+-----+--------------------+\n",
      "only showing top 20 rows\n",
      "\n"
     ]
    }
   ],
   "source": [
    "data.show()"
   ]
  },
  {
   "cell_type": "code",
   "execution_count": 9,
   "id": "b72e775d",
   "metadata": {},
   "outputs": [],
   "source": [
    "from pyspark.sql.functions import length"
   ]
  },
  {
   "cell_type": "code",
   "execution_count": 10,
   "id": "9709eecb",
   "metadata": {},
   "outputs": [],
   "source": [
    "data=data.withColumn('length',length(data['text']))"
   ]
  },
  {
   "cell_type": "code",
   "execution_count": 11,
   "id": "def31f7b",
   "metadata": {},
   "outputs": [
    {
     "name": "stdout",
     "output_type": "stream",
     "text": [
      "+-----+--------------------+------+\n",
      "|class|                text|length|\n",
      "+-----+--------------------+------+\n",
      "|  ham|Go until jurong p...|   111|\n",
      "|  ham|Ok lar... Joking ...|    29|\n",
      "| spam|Free entry in 2 a...|   155|\n",
      "|  ham|U dun say so earl...|    49|\n",
      "|  ham|Nah I don't think...|    61|\n",
      "| spam|FreeMsg Hey there...|   147|\n",
      "|  ham|Even my brother i...|    77|\n",
      "|  ham|As per your reque...|   160|\n",
      "| spam|WINNER!! As a val...|   157|\n",
      "| spam|Had your mobile 1...|   154|\n",
      "|  ham|I'm gonna be home...|   109|\n",
      "| spam|SIX chances to wi...|   136|\n",
      "| spam|URGENT! You have ...|   155|\n",
      "|  ham|I've been searchi...|   196|\n",
      "|  ham|I HAVE A DATE ON ...|    35|\n",
      "| spam|XXXMobileMovieClu...|   149|\n",
      "|  ham|Oh k...i'm watchi...|    26|\n",
      "|  ham|Eh u remember how...|    81|\n",
      "|  ham|Fine if thats th...|    56|\n",
      "| spam|England v Macedon...|   155|\n",
      "+-----+--------------------+------+\n",
      "only showing top 20 rows\n",
      "\n"
     ]
    }
   ],
   "source": [
    "data.show()"
   ]
  },
  {
   "cell_type": "code",
   "execution_count": 12,
   "id": "a7d3f705",
   "metadata": {},
   "outputs": [
    {
     "name": "stdout",
     "output_type": "stream",
     "text": [
      "+-----+-----------------+\n",
      "|class|      avg(length)|\n",
      "+-----+-----------------+\n",
      "|  ham|71.45431945307645|\n",
      "| spam|138.6706827309237|\n",
      "+-----+-----------------+\n",
      "\n"
     ]
    }
   ],
   "source": [
    "data.groupBy('class').mean().show()\n"
   ]
  },
  {
   "cell_type": "code",
   "execution_count": 13,
   "id": "7517655e",
   "metadata": {},
   "outputs": [],
   "source": [
    "from pyspark.ml.feature import (Tokenizer,StopWordsRemover,CountVectorizer,IDF,StringIndexer)"
   ]
  },
  {
   "cell_type": "code",
   "execution_count": 14,
   "id": "031451e2",
   "metadata": {},
   "outputs": [],
   "source": [
    "tokenizer=Tokenizer(inputCol='text',outputCol='token_text')\n",
    "stop_remove=StopWordsRemover(inputCol='token_text',outputCol='stop_token')\n",
    "count_vec=CountVectorizer(inputCol='stop_token',outputCol='c_vec')\n",
    "idf=IDF(inputCol='c_vec',outputCol='tf_idf')\n",
    "ham_spam_to_numeric=StringIndexer(inputCol='class',outputCol='label')"
   ]
  },
  {
   "cell_type": "code",
   "execution_count": 15,
   "id": "6ac5cec9",
   "metadata": {},
   "outputs": [],
   "source": [
    "from pyspark.ml.feature import VectorAssembler"
   ]
  },
  {
   "cell_type": "code",
   "execution_count": 16,
   "id": "e9ab46f1",
   "metadata": {},
   "outputs": [],
   "source": [
    "clean_up=VectorAssembler(inputCols=['tf_idf','length'],outputCol='features')"
   ]
  },
  {
   "cell_type": "code",
   "execution_count": 17,
   "id": "d73b6ba9",
   "metadata": {},
   "outputs": [],
   "source": [
    "from pyspark.ml import Pipeline"
   ]
  },
  {
   "cell_type": "code",
   "execution_count": 18,
   "id": "ba1e10e8",
   "metadata": {},
   "outputs": [],
   "source": [
    "data_prep_pipe=Pipeline(stages=[ham_spam_to_numeric,tokenizer,stop_remove,count_vec,idf,clean_up])"
   ]
  },
  {
   "cell_type": "code",
   "execution_count": 19,
   "id": "a5f17978",
   "metadata": {},
   "outputs": [
    {
     "name": "stderr",
     "output_type": "stream",
     "text": [
      "                                                                                \r"
     ]
    }
   ],
   "source": [
    "cleaner=data_prep_pipe.fit(data)"
   ]
  },
  {
   "cell_type": "code",
   "execution_count": 20,
   "id": "c82eb4e2",
   "metadata": {},
   "outputs": [],
   "source": [
    "clean_data=cleaner.transform(data)"
   ]
  },
  {
   "cell_type": "code",
   "execution_count": 21,
   "id": "745c288f",
   "metadata": {},
   "outputs": [],
   "source": [
    "clean_data=clean_data.select('label','features')"
   ]
  },
  {
   "cell_type": "code",
   "execution_count": 22,
   "id": "ea74ff20",
   "metadata": {},
   "outputs": [
    {
     "name": "stdout",
     "output_type": "stream",
     "text": [
      "+-----+--------------------+\n",
      "|label|            features|\n",
      "+-----+--------------------+\n",
      "|  0.0|(13424,[7,11,31,6...|\n",
      "|  0.0|(13424,[0,24,301,...|\n",
      "|  1.0|(13424,[2,13,19,3...|\n",
      "|  0.0|(13424,[0,70,80,1...|\n",
      "|  0.0|(13424,[36,134,31...|\n",
      "|  1.0|(13424,[10,60,140...|\n",
      "|  0.0|(13424,[10,53,102...|\n",
      "|  0.0|(13424,[127,185,4...|\n",
      "|  1.0|(13424,[1,47,121,...|\n",
      "|  1.0|(13424,[0,1,13,27...|\n",
      "|  0.0|(13424,[18,43,117...|\n",
      "|  1.0|(13424,[8,16,37,8...|\n",
      "|  1.0|(13424,[13,30,47,...|\n",
      "|  0.0|(13424,[39,95,221...|\n",
      "|  0.0|(13424,[555,1797,...|\n",
      "|  1.0|(13424,[30,109,11...|\n",
      "|  0.0|(13424,[82,214,44...|\n",
      "|  0.0|(13424,[0,2,49,13...|\n",
      "|  0.0|(13424,[0,74,105,...|\n",
      "|  1.0|(13424,[4,30,33,5...|\n",
      "+-----+--------------------+\n",
      "only showing top 20 rows\n",
      "\n"
     ]
    }
   ],
   "source": [
    "clean_data.show()"
   ]
  },
  {
   "cell_type": "code",
   "execution_count": 23,
   "id": "2153bad9",
   "metadata": {},
   "outputs": [],
   "source": [
    "from pyspark.ml.classification import LogisticRegression\n"
   ]
  },
  {
   "cell_type": "code",
   "execution_count": 24,
   "id": "7a4d0506",
   "metadata": {},
   "outputs": [],
   "source": [
    "lr=LogisticRegression()"
   ]
  },
  {
   "cell_type": "code",
   "execution_count": 25,
   "id": "12e2cbf9",
   "metadata": {},
   "outputs": [],
   "source": [
    "training,test=clean_data.randomSplit([0.7,0.3])\n"
   ]
  },
  {
   "cell_type": "code",
   "execution_count": 26,
   "id": "8dfc66a4",
   "metadata": {},
   "outputs": [
    {
     "name": "stderr",
     "output_type": "stream",
     "text": [
      "23/07/12 18:43:09 WARN DAGScheduler: Broadcasting large task binary with size 1165.9 KiB\n",
      "23/07/12 18:43:10 WARN InstanceBuilder: Failed to load implementation from:dev.ludovic.netlib.blas.JNIBLAS\n",
      "23/07/12 18:43:10 WARN DAGScheduler: Broadcasting large task binary with size 1166.6 KiB\n",
      "23/07/12 18:43:12 WARN DAGScheduler: Broadcasting large task binary with size 1166.6 KiB\n",
      "23/07/12 18:43:13 WARN DAGScheduler: Broadcasting large task binary with size 1166.6 KiB\n",
      "23/07/12 18:43:13 WARN DAGScheduler: Broadcasting large task binary with size 1166.6 KiB\n",
      "23/07/12 18:43:14 WARN DAGScheduler: Broadcasting large task binary with size 1166.6 KiB\n",
      "23/07/12 18:43:14 WARN DAGScheduler: Broadcasting large task binary with size 1166.6 KiB\n",
      "23/07/12 18:43:15 WARN DAGScheduler: Broadcasting large task binary with size 1166.6 KiB\n",
      "23/07/12 18:43:15 WARN DAGScheduler: Broadcasting large task binary with size 1166.6 KiB\n",
      "23/07/12 18:43:16 WARN DAGScheduler: Broadcasting large task binary with size 1166.6 KiB\n",
      "23/07/12 18:43:16 WARN DAGScheduler: Broadcasting large task binary with size 1166.6 KiB\n",
      "23/07/12 18:43:17 WARN DAGScheduler: Broadcasting large task binary with size 1166.6 KiB\n",
      "23/07/12 18:43:17 WARN DAGScheduler: Broadcasting large task binary with size 1166.6 KiB\n",
      "23/07/12 18:43:17 WARN DAGScheduler: Broadcasting large task binary with size 1166.6 KiB\n",
      "23/07/12 18:43:18 WARN DAGScheduler: Broadcasting large task binary with size 1166.6 KiB\n",
      "23/07/12 18:43:18 WARN DAGScheduler: Broadcasting large task binary with size 1166.6 KiB\n",
      "23/07/12 18:43:18 WARN DAGScheduler: Broadcasting large task binary with size 1166.6 KiB\n",
      "23/07/12 18:43:19 WARN DAGScheduler: Broadcasting large task binary with size 1166.6 KiB\n",
      "23/07/12 18:43:19 WARN DAGScheduler: Broadcasting large task binary with size 1166.6 KiB\n",
      "23/07/12 18:43:19 WARN DAGScheduler: Broadcasting large task binary with size 1166.6 KiB\n",
      "23/07/12 18:43:19 WARN DAGScheduler: Broadcasting large task binary with size 1166.6 KiB\n",
      "23/07/12 18:43:20 WARN DAGScheduler: Broadcasting large task binary with size 1166.6 KiB\n",
      "23/07/12 18:43:20 WARN DAGScheduler: Broadcasting large task binary with size 1166.6 KiB\n",
      "23/07/12 18:43:20 WARN DAGScheduler: Broadcasting large task binary with size 1166.6 KiB\n",
      "23/07/12 18:43:21 WARN DAGScheduler: Broadcasting large task binary with size 1166.6 KiB\n",
      "23/07/12 18:43:21 WARN DAGScheduler: Broadcasting large task binary with size 1166.6 KiB\n",
      "23/07/12 18:43:21 WARN DAGScheduler: Broadcasting large task binary with size 1166.6 KiB\n",
      "23/07/12 18:43:21 WARN DAGScheduler: Broadcasting large task binary with size 1166.6 KiB\n"
     ]
    }
   ],
   "source": [
    "spam_detection=lr.fit(training)"
   ]
  },
  {
   "cell_type": "code",
   "execution_count": 27,
   "id": "eaf29677",
   "metadata": {},
   "outputs": [
    {
     "name": "stdout",
     "output_type": "stream",
     "text": [
      "root\n",
      " |-- class: string (nullable = true)\n",
      " |-- text: string (nullable = true)\n",
      " |-- length: integer (nullable = true)\n",
      "\n"
     ]
    }
   ],
   "source": [
    "data.printSchema()"
   ]
  },
  {
   "cell_type": "code",
   "execution_count": 28,
   "id": "91acd163",
   "metadata": {},
   "outputs": [],
   "source": [
    "test_results=spam_detection.transform(test)"
   ]
  },
  {
   "cell_type": "code",
   "execution_count": 29,
   "id": "834c9fa4",
   "metadata": {},
   "outputs": [
    {
     "name": "stderr",
     "output_type": "stream",
     "text": [
      "23/07/12 18:43:40 WARN DAGScheduler: Broadcasting large task binary with size 1271.6 KiB\n"
     ]
    },
    {
     "name": "stdout",
     "output_type": "stream",
     "text": [
      "+-----+--------------------+--------------------+--------------------+----------+\n",
      "|label|            features|       rawPrediction|         probability|prediction|\n",
      "+-----+--------------------+--------------------+--------------------+----------+\n",
      "|  0.0|(13424,[0,1,2,7,8...|[22.7050184058899...|[0.99999999986217...|       0.0|\n",
      "|  0.0|(13424,[0,1,2,41,...|[15.3258952674627...|[0.99999977917504...|       0.0|\n",
      "|  0.0|(13424,[0,1,4,50,...|[24.6190925181831...|[0.99999999997967...|       0.0|\n",
      "|  0.0|(13424,[0,1,5,20,...|[10.0507320912837...|[0.99995684771748...|       0.0|\n",
      "|  0.0|(13424,[0,1,7,15,...|[20.6453111929993...|[0.99999999891892...|       0.0|\n",
      "|  0.0|(13424,[0,1,9,14,...|[24.1743075457983...|[0.99999999996828...|       0.0|\n",
      "|  0.0|(13424,[0,1,14,18...|[23.1445105133842...|[0.99999999991118...|       0.0|\n",
      "|  0.0|(13424,[0,1,20,27...|[14.9323119326373...|[0.99999967267499...|       0.0|\n",
      "|  0.0|(13424,[0,1,21,27...|[15.5435255778177...|[0.99999982236336...|       0.0|\n",
      "|  0.0|(13424,[0,1,23,63...|[21.0815206023114...|[0.99999999930110...|       0.0|\n",
      "|  0.0|(13424,[0,1,24,31...|[25.4507580799038...|[0.99999999999115...|       0.0|\n",
      "|  0.0|(13424,[0,1,27,35...|[16.0697148827621...|[0.99999989504298...|       0.0|\n",
      "|  0.0|(13424,[0,1,31,43...|[20.0096242522577...|[0.99999999795858...|       0.0|\n",
      "|  0.0|(13424,[0,1,150,1...|[16.2800200470367...|[0.99999991494945...|       0.0|\n",
      "|  0.0|(13424,[0,1,4305,...|[18.6830897338499...|[0.99999999230803...|       0.0|\n",
      "|  0.0|(13424,[0,2,3,5,3...|[14.6045665903558...|[0.99999954572679...|       0.0|\n",
      "|  0.0|(13424,[0,2,3,6,9...|[95.7777346945897...|           [1.0,0.0]|       0.0|\n",
      "|  0.0|(13424,[0,2,3,6,9...|[95.7777346945897...|           [1.0,0.0]|       0.0|\n",
      "|  0.0|(13424,[0,2,3,8,2...|[15.9345555978647...|[0.99999987985370...|       0.0|\n",
      "|  0.0|(13424,[0,2,4,5,1...|[20.7825857865255...|[0.99999999905759...|       0.0|\n",
      "+-----+--------------------+--------------------+--------------------+----------+\n",
      "only showing top 20 rows\n",
      "\n"
     ]
    },
    {
     "name": "stderr",
     "output_type": "stream",
     "text": [
      "\r",
      "[Stage 44:>                                                         (0 + 1) / 1]\r",
      "\r",
      "                                                                                \r"
     ]
    }
   ],
   "source": [
    "test_results.show()"
   ]
  },
  {
   "cell_type": "code",
   "execution_count": 30,
   "id": "8b74a5f8",
   "metadata": {},
   "outputs": [],
   "source": [
    "from pyspark.ml.evaluation import MulticlassClassificationEvaluator"
   ]
  },
  {
   "cell_type": "code",
   "execution_count": 31,
   "id": "15373fe7",
   "metadata": {},
   "outputs": [],
   "source": [
    "acc_eval=MulticlassClassificationEvaluator()"
   ]
  },
  {
   "cell_type": "code",
   "execution_count": 32,
   "id": "45a880b4",
   "metadata": {},
   "outputs": [
    {
     "name": "stderr",
     "output_type": "stream",
     "text": [
      "23/07/12 18:44:02 WARN DAGScheduler: Broadcasting large task binary with size 1276.2 KiB\n",
      "                                                                                \r"
     ]
    }
   ],
   "source": [
    "acc = acc_eval.evaluate(test_results)\n",
    "\n"
   ]
  },
  {
   "cell_type": "code",
   "execution_count": 34,
   "id": "02cd268f",
   "metadata": {},
   "outputs": [
    {
     "name": "stdout",
     "output_type": "stream",
     "text": [
      "ACC of lr Model\n",
      "0.9862372370719219\n"
     ]
    }
   ],
   "source": [
    "print('ACC of lr Model')\n",
    "print(acc)\n"
   ]
  },
  {
   "cell_type": "code",
   "execution_count": null,
   "id": "a023957f",
   "metadata": {},
   "outputs": [],
   "source": []
  }
 ],
 "metadata": {
  "kernelspec": {
   "display_name": "Python 3 (ipykernel)",
   "language": "python",
   "name": "python3"
  },
  "language_info": {
   "codemirror_mode": {
    "name": "ipython",
    "version": 3
   },
   "file_extension": ".py",
   "mimetype": "text/x-python",
   "name": "python",
   "nbconvert_exporter": "python",
   "pygments_lexer": "ipython3",
   "version": "3.10.6"
  }
 },
 "nbformat": 4,
 "nbformat_minor": 5
}
