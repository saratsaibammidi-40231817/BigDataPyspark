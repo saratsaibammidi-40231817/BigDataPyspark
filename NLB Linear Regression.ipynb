{
 "cells": [
  {
   "cell_type": "code",
   "execution_count": 2,
   "id": "c69ae348",
   "metadata": {},
   "outputs": [],
   "source": [
    "import findspark"
   ]
  },
  {
   "cell_type": "code",
   "execution_count": 3,
   "id": "92d1073d",
   "metadata": {},
   "outputs": [],
   "source": [
    "findspark.init('/home/dhruva_stark/spark-3.4.1-bin-hadoop3')"
   ]
  },
  {
   "cell_type": "code",
   "execution_count": 4,
   "id": "ab390fc4",
   "metadata": {},
   "outputs": [],
   "source": [
    "import pyspark"
   ]
  },
  {
   "cell_type": "code",
   "execution_count": 5,
   "id": "c44d5459",
   "metadata": {},
   "outputs": [],
   "source": [
    "from pyspark.sql import SparkSession"
   ]
  },
  {
   "cell_type": "code",
   "execution_count": 6,
   "id": "f669b456",
   "metadata": {},
   "outputs": [
    {
     "name": "stderr",
     "output_type": "stream",
     "text": [
      "23/07/12 18:52:55 WARN Utils: Your hostname, linux resolves to a loopback address: 127.0.1.1; using 10.0.2.15 instead (on interface enp0s3)\n",
      "23/07/12 18:52:55 WARN Utils: Set SPARK_LOCAL_IP if you need to bind to another address\n",
      "Setting default log level to \"WARN\".\n",
      "To adjust logging level use sc.setLogLevel(newLevel). For SparkR, use setLogLevel(newLevel).\n",
      "23/07/12 18:52:56 WARN NativeCodeLoader: Unable to load native-hadoop library for your platform... using builtin-java classes where applicable\n",
      "23/07/12 18:52:58 WARN Utils: Service 'SparkUI' could not bind on port 4040. Attempting port 4041.\n",
      "23/07/12 18:52:58 WARN Utils: Service 'SparkUI' could not bind on port 4041. Attempting port 4042.\n",
      "23/07/12 18:52:58 WARN Utils: Service 'SparkUI' could not bind on port 4042. Attempting port 4043.\n"
     ]
    }
   ],
   "source": [
    "spark=SparkSession.builder.appName('nlp').getOrCreate()"
   ]
  },
  {
   "cell_type": "code",
   "execution_count": 7,
   "id": "2262438d",
   "metadata": {},
   "outputs": [],
   "source": [
    "data=spark.read.csv('smsspamcollection/SMSSpamCollection',inferSchema=True,sep='\\t')"
   ]
  },
  {
   "cell_type": "code",
   "execution_count": 8,
   "id": "bf60eb6f",
   "metadata": {},
   "outputs": [],
   "source": [
    "data=data.withColumnRenamed('_c0','class').withColumnRenamed('_c1','text')"
   ]
  },
  {
   "cell_type": "code",
   "execution_count": 9,
   "id": "eb512daa",
   "metadata": {},
   "outputs": [
    {
     "name": "stdout",
     "output_type": "stream",
     "text": [
      "+-----+--------------------+\n",
      "|class|                text|\n",
      "+-----+--------------------+\n",
      "|  ham|Go until jurong p...|\n",
      "|  ham|Ok lar... Joking ...|\n",
      "| spam|Free entry in 2 a...|\n",
      "|  ham|U dun say so earl...|\n",
      "|  ham|Nah I don't think...|\n",
      "| spam|FreeMsg Hey there...|\n",
      "|  ham|Even my brother i...|\n",
      "|  ham|As per your reque...|\n",
      "| spam|WINNER!! As a val...|\n",
      "| spam|Had your mobile 1...|\n",
      "|  ham|I'm gonna be home...|\n",
      "| spam|SIX chances to wi...|\n",
      "| spam|URGENT! You have ...|\n",
      "|  ham|I've been searchi...|\n",
      "|  ham|I HAVE A DATE ON ...|\n",
      "| spam|XXXMobileMovieClu...|\n",
      "|  ham|Oh k...i'm watchi...|\n",
      "|  ham|Eh u remember how...|\n",
      "|  ham|Fine if thats th...|\n",
      "| spam|England v Macedon...|\n",
      "+-----+--------------------+\n",
      "only showing top 20 rows\n",
      "\n"
     ]
    }
   ],
   "source": [
    "data.show()"
   ]
  },
  {
   "cell_type": "code",
   "execution_count": 10,
   "id": "7e9e772f",
   "metadata": {},
   "outputs": [],
   "source": [
    "from pyspark.sql.functions import length"
   ]
  },
  {
   "cell_type": "code",
   "execution_count": 11,
   "id": "d3a91687",
   "metadata": {},
   "outputs": [],
   "source": [
    "data=data.withColumn('length',length(data['text']))"
   ]
  },
  {
   "cell_type": "code",
   "execution_count": 12,
   "id": "14220498",
   "metadata": {},
   "outputs": [
    {
     "name": "stdout",
     "output_type": "stream",
     "text": [
      "+-----+--------------------+------+\n",
      "|class|                text|length|\n",
      "+-----+--------------------+------+\n",
      "|  ham|Go until jurong p...|   111|\n",
      "|  ham|Ok lar... Joking ...|    29|\n",
      "| spam|Free entry in 2 a...|   155|\n",
      "|  ham|U dun say so earl...|    49|\n",
      "|  ham|Nah I don't think...|    61|\n",
      "| spam|FreeMsg Hey there...|   147|\n",
      "|  ham|Even my brother i...|    77|\n",
      "|  ham|As per your reque...|   160|\n",
      "| spam|WINNER!! As a val...|   157|\n",
      "| spam|Had your mobile 1...|   154|\n",
      "|  ham|I'm gonna be home...|   109|\n",
      "| spam|SIX chances to wi...|   136|\n",
      "| spam|URGENT! You have ...|   155|\n",
      "|  ham|I've been searchi...|   196|\n",
      "|  ham|I HAVE A DATE ON ...|    35|\n",
      "| spam|XXXMobileMovieClu...|   149|\n",
      "|  ham|Oh k...i'm watchi...|    26|\n",
      "|  ham|Eh u remember how...|    81|\n",
      "|  ham|Fine if thats th...|    56|\n",
      "| spam|England v Macedon...|   155|\n",
      "+-----+--------------------+------+\n",
      "only showing top 20 rows\n",
      "\n"
     ]
    }
   ],
   "source": [
    "data.show()"
   ]
  },
  {
   "cell_type": "code",
   "execution_count": 13,
   "id": "0976828e",
   "metadata": {},
   "outputs": [
    {
     "name": "stderr",
     "output_type": "stream",
     "text": [
      "\r",
      "[Stage 4:>                                                          (0 + 1) / 1]\r"
     ]
    },
    {
     "name": "stdout",
     "output_type": "stream",
     "text": [
      "+-----+-----------------+\n",
      "|class|      avg(length)|\n",
      "+-----+-----------------+\n",
      "|  ham|71.45431945307645|\n",
      "| spam|138.6706827309237|\n",
      "+-----+-----------------+\n",
      "\n"
     ]
    },
    {
     "name": "stderr",
     "output_type": "stream",
     "text": [
      "\r",
      "                                                                                \r"
     ]
    }
   ],
   "source": [
    "data.groupBy('class').mean().show()\n"
   ]
  },
  {
   "cell_type": "code",
   "execution_count": 14,
   "id": "c49e7145",
   "metadata": {},
   "outputs": [],
   "source": [
    "from pyspark.ml.feature import (Tokenizer,StopWordsRemover,CountVectorizer,IDF,StringIndexer)"
   ]
  },
  {
   "cell_type": "code",
   "execution_count": 15,
   "id": "f17ca80c",
   "metadata": {},
   "outputs": [],
   "source": [
    "tokenizer=Tokenizer(inputCol='text',outputCol='token_text')\n",
    "stop_remove=StopWordsRemover(inputCol='token_text',outputCol='stop_token')\n",
    "count_vec=CountVectorizer(inputCol='stop_token',outputCol='c_vec')\n",
    "idf=IDF(inputCol='c_vec',outputCol='tf_idf')\n",
    "ham_spam_to_numeric=StringIndexer(inputCol='class',outputCol='label')"
   ]
  },
  {
   "cell_type": "code",
   "execution_count": 16,
   "id": "ad658bed",
   "metadata": {},
   "outputs": [],
   "source": [
    "from pyspark.ml.feature import VectorAssembler"
   ]
  },
  {
   "cell_type": "code",
   "execution_count": 17,
   "id": "101d6b6e",
   "metadata": {},
   "outputs": [],
   "source": [
    "clean_up=VectorAssembler(inputCols=['tf_idf','length'],outputCol='features')"
   ]
  },
  {
   "cell_type": "code",
   "execution_count": 18,
   "id": "e1042814",
   "metadata": {},
   "outputs": [],
   "source": [
    "from pyspark.ml import Pipeline"
   ]
  },
  {
   "cell_type": "code",
   "execution_count": 19,
   "id": "ed5cd24f",
   "metadata": {},
   "outputs": [],
   "source": [
    "data_prep_pipe=Pipeline(stages=[ham_spam_to_numeric,tokenizer,stop_remove,count_vec,idf,clean_up])"
   ]
  },
  {
   "cell_type": "code",
   "execution_count": 20,
   "id": "0646f35a",
   "metadata": {},
   "outputs": [
    {
     "name": "stderr",
     "output_type": "stream",
     "text": [
      "                                                                                \r"
     ]
    }
   ],
   "source": [
    "cleaner=data_prep_pipe.fit(data)"
   ]
  },
  {
   "cell_type": "code",
   "execution_count": 21,
   "id": "7a970434",
   "metadata": {},
   "outputs": [],
   "source": [
    "clean_data=cleaner.transform(data)"
   ]
  },
  {
   "cell_type": "code",
   "execution_count": 22,
   "id": "9a1cb7b2",
   "metadata": {},
   "outputs": [],
   "source": [
    "clean_data=clean_data.select('label','features')"
   ]
  },
  {
   "cell_type": "code",
   "execution_count": 23,
   "id": "44bdd265",
   "metadata": {},
   "outputs": [
    {
     "name": "stdout",
     "output_type": "stream",
     "text": [
      "+-----+--------------------+\n",
      "|label|            features|\n",
      "+-----+--------------------+\n",
      "|  0.0|(13424,[7,11,31,6...|\n",
      "|  0.0|(13424,[0,24,301,...|\n",
      "|  1.0|(13424,[2,13,19,3...|\n",
      "|  0.0|(13424,[0,70,80,1...|\n",
      "|  0.0|(13424,[36,134,31...|\n",
      "|  1.0|(13424,[10,60,140...|\n",
      "|  0.0|(13424,[10,53,102...|\n",
      "|  0.0|(13424,[127,185,4...|\n",
      "|  1.0|(13424,[1,47,121,...|\n",
      "|  1.0|(13424,[0,1,13,27...|\n",
      "|  0.0|(13424,[18,43,117...|\n",
      "|  1.0|(13424,[8,16,37,8...|\n",
      "|  1.0|(13424,[13,30,47,...|\n",
      "|  0.0|(13424,[39,95,221...|\n",
      "|  0.0|(13424,[555,1797,...|\n",
      "|  1.0|(13424,[30,109,11...|\n",
      "|  0.0|(13424,[82,214,44...|\n",
      "|  0.0|(13424,[0,2,49,13...|\n",
      "|  0.0|(13424,[0,74,105,...|\n",
      "|  1.0|(13424,[4,30,33,5...|\n",
      "+-----+--------------------+\n",
      "only showing top 20 rows\n",
      "\n"
     ]
    }
   ],
   "source": [
    "clean_data.show()"
   ]
  },
  {
   "cell_type": "code",
   "execution_count": 26,
   "id": "0235cb10",
   "metadata": {},
   "outputs": [],
   "source": [
    "from pyspark.ml.regression import LinearRegression\n"
   ]
  },
  {
   "cell_type": "code",
   "execution_count": 27,
   "id": "98ff6c07",
   "metadata": {},
   "outputs": [],
   "source": [
    "lr=LinearRegression()"
   ]
  },
  {
   "cell_type": "code",
   "execution_count": 28,
   "id": "b4e6531b",
   "metadata": {},
   "outputs": [],
   "source": [
    "training,test=clean_data.randomSplit([0.7,0.3])"
   ]
  },
  {
   "cell_type": "code",
   "execution_count": 29,
   "id": "ec1ac747",
   "metadata": {},
   "outputs": [
    {
     "name": "stderr",
     "output_type": "stream",
     "text": [
      "23/07/12 18:57:38 WARN DAGScheduler: Broadcasting large task binary with size 1162.6 KiB\n",
      "23/07/12 18:57:40 WARN InstanceBuilder: Failed to load implementation from:dev.ludovic.netlib.blas.JNIBLAS\n",
      "23/07/12 18:57:40 WARN DAGScheduler: Broadcasting large task binary with size 1163.2 KiB\n",
      "23/07/12 18:57:41 WARN DAGScheduler: Broadcasting large task binary with size 1163.2 KiB\n",
      "23/07/12 18:57:42 WARN DAGScheduler: Broadcasting large task binary with size 1163.2 KiB\n",
      "23/07/12 18:57:43 WARN DAGScheduler: Broadcasting large task binary with size 1163.2 KiB\n",
      "23/07/12 18:57:43 WARN DAGScheduler: Broadcasting large task binary with size 1163.2 KiB\n",
      "23/07/12 18:57:44 WARN DAGScheduler: Broadcasting large task binary with size 1163.2 KiB\n",
      "23/07/12 18:57:44 WARN DAGScheduler: Broadcasting large task binary with size 1163.2 KiB\n",
      "23/07/12 18:57:44 WARN DAGScheduler: Broadcasting large task binary with size 1163.2 KiB\n",
      "23/07/12 18:57:45 WARN DAGScheduler: Broadcasting large task binary with size 1163.2 KiB\n",
      "23/07/12 18:57:45 WARN DAGScheduler: Broadcasting large task binary with size 1163.2 KiB\n",
      "23/07/12 18:57:45 WARN DAGScheduler: Broadcasting large task binary with size 1163.2 KiB\n",
      "23/07/12 18:57:46 WARN DAGScheduler: Broadcasting large task binary with size 1163.2 KiB\n",
      "23/07/12 18:57:46 WARN DAGScheduler: Broadcasting large task binary with size 1163.2 KiB\n",
      "23/07/12 18:57:46 WARN DAGScheduler: Broadcasting large task binary with size 1163.2 KiB\n",
      "23/07/12 18:57:46 WARN DAGScheduler: Broadcasting large task binary with size 1163.2 KiB\n",
      "23/07/12 18:57:47 WARN DAGScheduler: Broadcasting large task binary with size 1163.2 KiB\n",
      "23/07/12 18:57:47 WARN DAGScheduler: Broadcasting large task binary with size 1163.2 KiB\n",
      "23/07/12 18:57:47 WARN DAGScheduler: Broadcasting large task binary with size 1163.2 KiB\n",
      "23/07/12 18:57:48 WARN DAGScheduler: Broadcasting large task binary with size 1163.2 KiB\n",
      "23/07/12 18:57:48 WARN DAGScheduler: Broadcasting large task binary with size 1163.2 KiB\n",
      "23/07/12 18:57:49 WARN DAGScheduler: Broadcasting large task binary with size 1163.2 KiB\n",
      "23/07/12 18:57:49 WARN DAGScheduler: Broadcasting large task binary with size 1163.2 KiB\n",
      "23/07/12 18:57:49 WARN DAGScheduler: Broadcasting large task binary with size 1163.2 KiB\n",
      "23/07/12 18:57:49 WARN DAGScheduler: Broadcasting large task binary with size 1163.2 KiB\n",
      "23/07/12 18:57:50 WARN DAGScheduler: Broadcasting large task binary with size 1163.2 KiB\n",
      "23/07/12 18:57:50 WARN DAGScheduler: Broadcasting large task binary with size 1163.2 KiB\n",
      "23/07/12 18:57:50 WARN DAGScheduler: Broadcasting large task binary with size 1163.2 KiB\n",
      "23/07/12 18:57:50 WARN DAGScheduler: Broadcasting large task binary with size 1163.2 KiB\n",
      "23/07/12 18:57:50 WARN DAGScheduler: Broadcasting large task binary with size 1163.2 KiB\n",
      "23/07/12 18:57:51 WARN DAGScheduler: Broadcasting large task binary with size 1163.2 KiB\n",
      "23/07/12 18:57:51 WARN DAGScheduler: Broadcasting large task binary with size 1163.2 KiB\n",
      "23/07/12 18:57:51 WARN DAGScheduler: Broadcasting large task binary with size 1163.2 KiB\n",
      "23/07/12 18:57:51 WARN DAGScheduler: Broadcasting large task binary with size 1163.2 KiB\n",
      "23/07/12 18:57:51 WARN DAGScheduler: Broadcasting large task binary with size 1163.2 KiB\n",
      "23/07/12 18:57:52 WARN DAGScheduler: Broadcasting large task binary with size 1163.2 KiB\n",
      "23/07/12 18:57:52 WARN DAGScheduler: Broadcasting large task binary with size 1163.2 KiB\n",
      "23/07/12 18:57:52 WARN DAGScheduler: Broadcasting large task binary with size 1163.2 KiB\n",
      "23/07/12 18:57:52 WARN DAGScheduler: Broadcasting large task binary with size 1163.2 KiB\n",
      "23/07/12 18:57:52 WARN DAGScheduler: Broadcasting large task binary with size 1163.2 KiB\n",
      "23/07/12 18:57:52 WARN DAGScheduler: Broadcasting large task binary with size 1163.2 KiB\n",
      "23/07/12 18:57:53 WARN DAGScheduler: Broadcasting large task binary with size 1163.2 KiB\n",
      "23/07/12 18:57:53 WARN DAGScheduler: Broadcasting large task binary with size 1163.2 KiB\n",
      "23/07/12 18:57:53 WARN DAGScheduler: Broadcasting large task binary with size 1163.2 KiB\n",
      "23/07/12 18:57:53 WARN DAGScheduler: Broadcasting large task binary with size 1163.2 KiB\n",
      "23/07/12 18:57:53 WARN DAGScheduler: Broadcasting large task binary with size 1163.2 KiB\n",
      "23/07/12 18:57:54 WARN DAGScheduler: Broadcasting large task binary with size 1163.2 KiB\n",
      "23/07/12 18:57:54 WARN DAGScheduler: Broadcasting large task binary with size 1163.2 KiB\n",
      "23/07/12 18:57:54 WARN DAGScheduler: Broadcasting large task binary with size 1163.2 KiB\n",
      "23/07/12 18:57:54 WARN DAGScheduler: Broadcasting large task binary with size 1163.2 KiB\n",
      "23/07/12 18:57:54 WARN DAGScheduler: Broadcasting large task binary with size 1163.2 KiB\n",
      "23/07/12 18:57:54 WARN DAGScheduler: Broadcasting large task binary with size 1163.2 KiB\n",
      "23/07/12 18:57:55 WARN DAGScheduler: Broadcasting large task binary with size 1163.2 KiB\n",
      "23/07/12 18:57:55 WARN DAGScheduler: Broadcasting large task binary with size 1163.2 KiB\n",
      "23/07/12 18:57:55 WARN DAGScheduler: Broadcasting large task binary with size 1163.2 KiB\n",
      "23/07/12 18:57:55 WARN DAGScheduler: Broadcasting large task binary with size 1163.2 KiB\n",
      "23/07/12 18:57:55 WARN DAGScheduler: Broadcasting large task binary with size 1163.2 KiB\n",
      "23/07/12 18:57:56 WARN DAGScheduler: Broadcasting large task binary with size 1163.2 KiB\n",
      "23/07/12 18:57:56 WARN DAGScheduler: Broadcasting large task binary with size 1163.2 KiB\n",
      "23/07/12 18:57:56 WARN DAGScheduler: Broadcasting large task binary with size 1163.2 KiB\n",
      "23/07/12 18:57:56 WARN DAGScheduler: Broadcasting large task binary with size 1163.2 KiB\n",
      "23/07/12 18:57:56 WARN DAGScheduler: Broadcasting large task binary with size 1163.2 KiB\n",
      "23/07/12 18:57:56 WARN DAGScheduler: Broadcasting large task binary with size 1163.2 KiB\n",
      "23/07/12 18:57:57 WARN DAGScheduler: Broadcasting large task binary with size 1163.2 KiB\n",
      "23/07/12 18:57:57 WARN DAGScheduler: Broadcasting large task binary with size 1163.2 KiB\n",
      "23/07/12 18:57:57 WARN DAGScheduler: Broadcasting large task binary with size 1163.2 KiB\n",
      "23/07/12 18:57:57 WARN DAGScheduler: Broadcasting large task binary with size 1163.2 KiB\n",
      "23/07/12 18:57:57 WARN DAGScheduler: Broadcasting large task binary with size 1163.2 KiB\n",
      "23/07/12 18:57:58 WARN DAGScheduler: Broadcasting large task binary with size 1163.2 KiB\n",
      "23/07/12 18:57:58 WARN DAGScheduler: Broadcasting large task binary with size 1163.2 KiB\n",
      "23/07/12 18:57:58 WARN DAGScheduler: Broadcasting large task binary with size 1163.2 KiB\n",
      "23/07/12 18:57:58 WARN DAGScheduler: Broadcasting large task binary with size 1163.2 KiB\n",
      "23/07/12 18:57:58 WARN DAGScheduler: Broadcasting large task binary with size 1163.2 KiB\n",
      "23/07/12 18:57:59 WARN DAGScheduler: Broadcasting large task binary with size 1163.2 KiB\n",
      "23/07/12 18:57:59 WARN DAGScheduler: Broadcasting large task binary with size 1163.2 KiB\n",
      "23/07/12 18:57:59 WARN DAGScheduler: Broadcasting large task binary with size 1163.2 KiB\n",
      "23/07/12 18:57:59 WARN DAGScheduler: Broadcasting large task binary with size 1163.2 KiB\n",
      "23/07/12 18:57:59 WARN DAGScheduler: Broadcasting large task binary with size 1163.2 KiB\n",
      "23/07/12 18:57:59 WARN DAGScheduler: Broadcasting large task binary with size 1163.2 KiB\n",
      "23/07/12 18:58:00 WARN DAGScheduler: Broadcasting large task binary with size 1163.2 KiB\n",
      "23/07/12 18:58:00 WARN DAGScheduler: Broadcasting large task binary with size 1163.2 KiB\n",
      "23/07/12 18:58:00 WARN DAGScheduler: Broadcasting large task binary with size 1163.2 KiB\n",
      "23/07/12 18:58:00 WARN DAGScheduler: Broadcasting large task binary with size 1163.2 KiB\n",
      "23/07/12 18:58:00 WARN DAGScheduler: Broadcasting large task binary with size 1163.2 KiB\n",
      "23/07/12 18:58:00 WARN DAGScheduler: Broadcasting large task binary with size 1163.2 KiB\n",
      "23/07/12 18:58:01 WARN DAGScheduler: Broadcasting large task binary with size 1163.2 KiB\n",
      "23/07/12 18:58:01 WARN DAGScheduler: Broadcasting large task binary with size 1163.2 KiB\n",
      "23/07/12 18:58:01 WARN DAGScheduler: Broadcasting large task binary with size 1163.2 KiB\n",
      "23/07/12 18:58:01 WARN DAGScheduler: Broadcasting large task binary with size 1163.2 KiB\n",
      "23/07/12 18:58:01 WARN DAGScheduler: Broadcasting large task binary with size 1163.2 KiB\n",
      "23/07/12 18:58:02 WARN DAGScheduler: Broadcasting large task binary with size 1163.2 KiB\n",
      "23/07/12 18:58:02 WARN DAGScheduler: Broadcasting large task binary with size 1163.2 KiB\n"
     ]
    },
    {
     "name": "stderr",
     "output_type": "stream",
     "text": [
      "23/07/12 18:58:02 WARN DAGScheduler: Broadcasting large task binary with size 1163.2 KiB\n",
      "23/07/12 18:58:02 WARN DAGScheduler: Broadcasting large task binary with size 1163.2 KiB\n",
      "23/07/12 18:58:02 WARN DAGScheduler: Broadcasting large task binary with size 1163.2 KiB\n",
      "23/07/12 18:58:02 WARN DAGScheduler: Broadcasting large task binary with size 1163.2 KiB\n",
      "23/07/12 18:58:03 WARN DAGScheduler: Broadcasting large task binary with size 1163.2 KiB\n",
      "23/07/12 18:58:03 WARN DAGScheduler: Broadcasting large task binary with size 1163.2 KiB\n",
      "23/07/12 18:58:03 WARN DAGScheduler: Broadcasting large task binary with size 1163.2 KiB\n",
      "23/07/12 18:58:03 WARN DAGScheduler: Broadcasting large task binary with size 1163.2 KiB\n",
      "23/07/12 18:58:03 WARN DAGScheduler: Broadcasting large task binary with size 1163.2 KiB\n",
      "23/07/12 18:58:03 WARN DAGScheduler: Broadcasting large task binary with size 1163.2 KiB\n",
      "23/07/12 18:58:04 WARN DAGScheduler: Broadcasting large task binary with size 1163.2 KiB\n",
      "23/07/12 18:58:04 WARN DAGScheduler: Broadcasting large task binary with size 1163.2 KiB\n",
      "23/07/12 18:58:04 WARN DAGScheduler: Broadcasting large task binary with size 1163.2 KiB\n",
      "23/07/12 18:58:04 WARN DAGScheduler: Broadcasting large task binary with size 1163.2 KiB\n",
      "23/07/12 18:58:04 WARN DAGScheduler: Broadcasting large task binary with size 1163.2 KiB\n",
      "23/07/12 18:58:04 WARN DAGScheduler: Broadcasting large task binary with size 1163.2 KiB\n",
      "23/07/12 18:58:05 WARN DAGScheduler: Broadcasting large task binary with size 1163.2 KiB\n",
      "23/07/12 18:58:05 WARN DAGScheduler: Broadcasting large task binary with size 1163.2 KiB\n",
      "23/07/12 18:58:05 WARN DAGScheduler: Broadcasting large task binary with size 1256.2 KiB\n"
     ]
    }
   ],
   "source": [
    "spam_detection=lr.fit(training)"
   ]
  },
  {
   "cell_type": "code",
   "execution_count": 36,
   "id": "ac60096d",
   "metadata": {},
   "outputs": [
    {
     "name": "stdout",
     "output_type": "stream",
     "text": [
      "root\n",
      " |-- class: string (nullable = true)\n",
      " |-- text: string (nullable = true)\n",
      " |-- length: integer (nullable = true)\n",
      "\n"
     ]
    }
   ],
   "source": [
    "data.printSchema()"
   ]
  },
  {
   "cell_type": "code",
   "execution_count": 30,
   "id": "46ff1f61",
   "metadata": {},
   "outputs": [],
   "source": [
    "test_results=spam_detection.transform(test)"
   ]
  },
  {
   "cell_type": "code",
   "execution_count": null,
   "id": "fe3efaad",
   "metadata": {},
   "outputs": [],
   "source": []
  },
  {
   "cell_type": "code",
   "execution_count": 31,
   "id": "c7663bf6",
   "metadata": {},
   "outputs": [
    {
     "name": "stderr",
     "output_type": "stream",
     "text": [
      "23/07/12 18:58:17 WARN DAGScheduler: Broadcasting large task binary with size 1251.7 KiB\n"
     ]
    },
    {
     "name": "stdout",
     "output_type": "stream",
     "text": [
      "+-----+--------------------+--------------------+\n",
      "|label|            features|          prediction|\n",
      "+-----+--------------------+--------------------+\n",
      "|  0.0|(13424,[0,1,2,7,8...| 0.03133317639596479|\n",
      "|  0.0|(13424,[0,1,4,50,...|-0.08366514075614026|\n",
      "|  0.0|(13424,[0,1,7,15,...|-0.02796085969110...|\n",
      "|  0.0|(13424,[0,1,9,14,...|1.115058360024942...|\n",
      "|  0.0|(13424,[0,1,14,31...|0.011361030792179663|\n",
      "|  0.0|(13424,[0,1,16,19...|0.031273976995658065|\n",
      "|  0.0|(13424,[0,1,21,27...| 0.14471220950340588|\n",
      "|  0.0|(13424,[0,1,23,63...|-0.03959301744734...|\n",
      "|  0.0|(13424,[0,1,24,31...|-0.08352035682637764|\n",
      "|  0.0|(13424,[0,1,31,43...|-0.00379311160504...|\n",
      "|  0.0|(13424,[0,1,43,69...|-0.00580462307025...|\n",
      "|  0.0|(13424,[0,1,150,1...| 0.02094489775988382|\n",
      "|  0.0|(13424,[0,1,428,6...|0.017544311215045738|\n",
      "|  0.0|(13424,[0,1,500,5...|7.257212641205227E-4|\n",
      "|  0.0|(13424,[0,1,881,1...|0.001967781978055...|\n",
      "|  0.0|(13424,[0,2,3,6,9...|0.001589961106813...|\n",
      "|  0.0|(13424,[0,2,4,5,7...|0.016166573048769835|\n",
      "|  0.0|(13424,[0,2,4,5,1...|9.387542336347643E-5|\n",
      "|  0.0|(13424,[0,2,4,8,1...| 0.05892532182827735|\n",
      "|  0.0|(13424,[0,2,4,8,2...| 0.12973929482398422|\n",
      "+-----+--------------------+--------------------+\n",
      "only showing top 20 rows\n",
      "\n"
     ]
    }
   ],
   "source": [
    "test_results.show()"
   ]
  },
  {
   "cell_type": "code",
   "execution_count": 32,
   "id": "96b1b77f",
   "metadata": {},
   "outputs": [],
   "source": [
    "from pyspark.ml.evaluation import MulticlassClassificationEvaluator"
   ]
  },
  {
   "cell_type": "code",
   "execution_count": 33,
   "id": "cb1af686",
   "metadata": {},
   "outputs": [],
   "source": [
    "acc_eval=MulticlassClassificationEvaluator()"
   ]
  },
  {
   "cell_type": "code",
   "execution_count": 34,
   "id": "8eaee4b0",
   "metadata": {},
   "outputs": [
    {
     "name": "stderr",
     "output_type": "stream",
     "text": [
      "23/07/12 18:58:36 WARN DAGScheduler: Broadcasting large task binary with size 1256.6 KiB\n"
     ]
    }
   ],
   "source": [
    "acc = acc_eval.evaluate(test_results)\n",
    "\n"
   ]
  },
  {
   "cell_type": "code",
   "execution_count": 38,
   "id": "b929482d",
   "metadata": {},
   "outputs": [
    {
     "name": "stderr",
     "output_type": "stream",
     "text": [
      "23/07/12 19:05:46 WARN DAGScheduler: Broadcasting large task binary with size 1162.6 KiB\n",
      "23/07/12 19:05:47 WARN DAGScheduler: Broadcasting large task binary with size 1163.2 KiB\n",
      "23/07/12 19:05:48 WARN DAGScheduler: Broadcasting large task binary with size 1163.2 KiB\n",
      "23/07/12 19:05:48 WARN DAGScheduler: Broadcasting large task binary with size 1163.2 KiB\n",
      "23/07/12 19:05:48 WARN DAGScheduler: Broadcasting large task binary with size 1163.2 KiB\n",
      "23/07/12 19:05:48 WARN DAGScheduler: Broadcasting large task binary with size 1163.2 KiB\n",
      "23/07/12 19:05:49 WARN DAGScheduler: Broadcasting large task binary with size 1163.2 KiB\n",
      "23/07/12 19:05:49 WARN DAGScheduler: Broadcasting large task binary with size 1163.2 KiB\n",
      "23/07/12 19:05:49 WARN DAGScheduler: Broadcasting large task binary with size 1163.2 KiB\n",
      "23/07/12 19:05:49 WARN DAGScheduler: Broadcasting large task binary with size 1163.2 KiB\n",
      "23/07/12 19:05:50 WARN DAGScheduler: Broadcasting large task binary with size 1163.2 KiB\n",
      "23/07/12 19:05:50 WARN DAGScheduler: Broadcasting large task binary with size 1163.2 KiB\n",
      "23/07/12 19:05:50 WARN DAGScheduler: Broadcasting large task binary with size 1163.2 KiB\n",
      "23/07/12 19:05:51 WARN DAGScheduler: Broadcasting large task binary with size 1163.2 KiB\n",
      "23/07/12 19:05:51 WARN DAGScheduler: Broadcasting large task binary with size 1163.2 KiB\n",
      "23/07/12 19:05:51 WARN DAGScheduler: Broadcasting large task binary with size 1163.2 KiB\n",
      "23/07/12 19:05:51 WARN DAGScheduler: Broadcasting large task binary with size 1163.2 KiB\n",
      "23/07/12 19:05:52 WARN DAGScheduler: Broadcasting large task binary with size 1163.2 KiB\n",
      "23/07/12 19:05:52 WARN DAGScheduler: Broadcasting large task binary with size 1163.2 KiB\n",
      "23/07/12 19:05:52 WARN DAGScheduler: Broadcasting large task binary with size 1163.2 KiB\n",
      "23/07/12 19:05:52 WARN DAGScheduler: Broadcasting large task binary with size 1163.2 KiB\n",
      "23/07/12 19:05:53 WARN DAGScheduler: Broadcasting large task binary with size 1163.2 KiB\n",
      "23/07/12 19:05:53 WARN DAGScheduler: Broadcasting large task binary with size 1163.2 KiB\n",
      "23/07/12 19:05:53 WARN DAGScheduler: Broadcasting large task binary with size 1163.2 KiB\n",
      "23/07/12 19:05:53 WARN DAGScheduler: Broadcasting large task binary with size 1163.2 KiB\n",
      "23/07/12 19:05:54 WARN DAGScheduler: Broadcasting large task binary with size 1163.2 KiB\n",
      "23/07/12 19:05:54 WARN DAGScheduler: Broadcasting large task binary with size 1163.2 KiB\n",
      "23/07/12 19:05:54 WARN DAGScheduler: Broadcasting large task binary with size 1163.2 KiB\n",
      "23/07/12 19:05:54 WARN DAGScheduler: Broadcasting large task binary with size 1163.2 KiB\n",
      "23/07/12 19:05:54 WARN DAGScheduler: Broadcasting large task binary with size 1163.2 KiB\n",
      "23/07/12 19:05:54 WARN DAGScheduler: Broadcasting large task binary with size 1163.2 KiB\n",
      "23/07/12 19:05:55 WARN DAGScheduler: Broadcasting large task binary with size 1163.2 KiB\n",
      "23/07/12 19:05:55 WARN DAGScheduler: Broadcasting large task binary with size 1163.2 KiB\n",
      "23/07/12 19:05:55 WARN DAGScheduler: Broadcasting large task binary with size 1163.2 KiB\n",
      "23/07/12 19:05:55 WARN DAGScheduler: Broadcasting large task binary with size 1163.2 KiB\n",
      "23/07/12 19:05:55 WARN DAGScheduler: Broadcasting large task binary with size 1163.2 KiB\n",
      "23/07/12 19:05:55 WARN DAGScheduler: Broadcasting large task binary with size 1163.2 KiB\n",
      "23/07/12 19:05:56 WARN DAGScheduler: Broadcasting large task binary with size 1163.2 KiB\n",
      "23/07/12 19:05:56 WARN DAGScheduler: Broadcasting large task binary with size 1163.2 KiB\n",
      "23/07/12 19:05:56 WARN DAGScheduler: Broadcasting large task binary with size 1163.2 KiB\n",
      "23/07/12 19:05:56 WARN DAGScheduler: Broadcasting large task binary with size 1163.2 KiB\n",
      "23/07/12 19:05:56 WARN DAGScheduler: Broadcasting large task binary with size 1163.2 KiB\n",
      "23/07/12 19:05:57 WARN DAGScheduler: Broadcasting large task binary with size 1163.2 KiB\n",
      "23/07/12 19:05:57 WARN DAGScheduler: Broadcasting large task binary with size 1163.2 KiB\n",
      "23/07/12 19:05:57 WARN DAGScheduler: Broadcasting large task binary with size 1163.2 KiB\n",
      "23/07/12 19:05:57 WARN DAGScheduler: Broadcasting large task binary with size 1163.2 KiB\n",
      "23/07/12 19:05:57 WARN DAGScheduler: Broadcasting large task binary with size 1163.2 KiB\n",
      "23/07/12 19:05:57 WARN DAGScheduler: Broadcasting large task binary with size 1163.2 KiB\n",
      "23/07/12 19:05:58 WARN DAGScheduler: Broadcasting large task binary with size 1163.2 KiB\n",
      "23/07/12 19:05:58 WARN DAGScheduler: Broadcasting large task binary with size 1163.2 KiB\n",
      "23/07/12 19:05:58 WARN DAGScheduler: Broadcasting large task binary with size 1163.2 KiB\n",
      "23/07/12 19:05:58 WARN DAGScheduler: Broadcasting large task binary with size 1163.2 KiB\n",
      "23/07/12 19:05:58 WARN DAGScheduler: Broadcasting large task binary with size 1163.2 KiB\n",
      "23/07/12 19:05:59 WARN DAGScheduler: Broadcasting large task binary with size 1163.2 KiB\n",
      "23/07/12 19:05:59 WARN DAGScheduler: Broadcasting large task binary with size 1163.2 KiB\n",
      "23/07/12 19:05:59 WARN DAGScheduler: Broadcasting large task binary with size 1163.2 KiB\n",
      "23/07/12 19:05:59 WARN DAGScheduler: Broadcasting large task binary with size 1163.2 KiB\n",
      "23/07/12 19:05:59 WARN DAGScheduler: Broadcasting large task binary with size 1163.2 KiB\n",
      "23/07/12 19:06:00 WARN DAGScheduler: Broadcasting large task binary with size 1163.2 KiB\n",
      "23/07/12 19:06:00 WARN DAGScheduler: Broadcasting large task binary with size 1163.2 KiB\n",
      "23/07/12 19:06:00 WARN DAGScheduler: Broadcasting large task binary with size 1163.2 KiB\n",
      "23/07/12 19:06:00 WARN DAGScheduler: Broadcasting large task binary with size 1163.2 KiB\n",
      "23/07/12 19:06:00 WARN DAGScheduler: Broadcasting large task binary with size 1163.2 KiB\n",
      "23/07/12 19:06:00 WARN DAGScheduler: Broadcasting large task binary with size 1163.2 KiB\n",
      "23/07/12 19:06:01 WARN DAGScheduler: Broadcasting large task binary with size 1163.2 KiB\n",
      "23/07/12 19:06:01 WARN DAGScheduler: Broadcasting large task binary with size 1163.2 KiB\n",
      "23/07/12 19:06:01 WARN DAGScheduler: Broadcasting large task binary with size 1163.2 KiB\n",
      "23/07/12 19:06:01 WARN DAGScheduler: Broadcasting large task binary with size 1163.2 KiB\n",
      "23/07/12 19:06:01 WARN DAGScheduler: Broadcasting large task binary with size 1163.2 KiB\n",
      "23/07/12 19:06:01 WARN DAGScheduler: Broadcasting large task binary with size 1163.2 KiB\n",
      "23/07/12 19:06:02 WARN DAGScheduler: Broadcasting large task binary with size 1163.2 KiB\n",
      "23/07/12 19:06:02 WARN DAGScheduler: Broadcasting large task binary with size 1163.2 KiB\n",
      "23/07/12 19:06:02 WARN DAGScheduler: Broadcasting large task binary with size 1163.2 KiB\n",
      "23/07/12 19:06:02 WARN DAGScheduler: Broadcasting large task binary with size 1163.2 KiB\n",
      "23/07/12 19:06:02 WARN DAGScheduler: Broadcasting large task binary with size 1163.2 KiB\n",
      "23/07/12 19:06:03 WARN DAGScheduler: Broadcasting large task binary with size 1163.2 KiB\n",
      "23/07/12 19:06:03 WARN DAGScheduler: Broadcasting large task binary with size 1163.2 KiB\n",
      "23/07/12 19:06:03 WARN DAGScheduler: Broadcasting large task binary with size 1163.2 KiB\n",
      "23/07/12 19:06:03 WARN DAGScheduler: Broadcasting large task binary with size 1163.2 KiB\n",
      "23/07/12 19:06:03 WARN DAGScheduler: Broadcasting large task binary with size 1163.2 KiB\n",
      "23/07/12 19:06:03 WARN DAGScheduler: Broadcasting large task binary with size 1163.2 KiB\n",
      "23/07/12 19:06:04 WARN DAGScheduler: Broadcasting large task binary with size 1163.2 KiB\n",
      "23/07/12 19:06:04 WARN DAGScheduler: Broadcasting large task binary with size 1163.2 KiB\n",
      "23/07/12 19:06:04 WARN DAGScheduler: Broadcasting large task binary with size 1163.2 KiB\n",
      "23/07/12 19:06:04 WARN DAGScheduler: Broadcasting large task binary with size 1163.2 KiB\n",
      "23/07/12 19:06:04 WARN DAGScheduler: Broadcasting large task binary with size 1163.2 KiB\n",
      "23/07/12 19:06:04 WARN DAGScheduler: Broadcasting large task binary with size 1163.2 KiB\n",
      "23/07/12 19:06:05 WARN DAGScheduler: Broadcasting large task binary with size 1163.2 KiB\n",
      "23/07/12 19:06:05 WARN DAGScheduler: Broadcasting large task binary with size 1163.2 KiB\n",
      "23/07/12 19:06:05 WARN DAGScheduler: Broadcasting large task binary with size 1163.2 KiB\n",
      "23/07/12 19:06:05 WARN DAGScheduler: Broadcasting large task binary with size 1163.2 KiB\n",
      "23/07/12 19:06:05 WARN DAGScheduler: Broadcasting large task binary with size 1163.2 KiB\n",
      "23/07/12 19:06:06 WARN DAGScheduler: Broadcasting large task binary with size 1163.2 KiB\n",
      "23/07/12 19:06:06 WARN DAGScheduler: Broadcasting large task binary with size 1163.2 KiB\n"
     ]
    },
    {
     "name": "stderr",
     "output_type": "stream",
     "text": [
      "23/07/12 19:06:06 WARN DAGScheduler: Broadcasting large task binary with size 1163.2 KiB\n",
      "23/07/12 19:06:06 WARN DAGScheduler: Broadcasting large task binary with size 1163.2 KiB\n",
      "23/07/12 19:06:06 WARN DAGScheduler: Broadcasting large task binary with size 1163.2 KiB\n",
      "23/07/12 19:06:06 WARN DAGScheduler: Broadcasting large task binary with size 1163.2 KiB\n",
      "23/07/12 19:06:06 WARN DAGScheduler: Broadcasting large task binary with size 1163.2 KiB\n",
      "23/07/12 19:06:07 WARN DAGScheduler: Broadcasting large task binary with size 1163.2 KiB\n",
      "23/07/12 19:06:07 WARN DAGScheduler: Broadcasting large task binary with size 1163.2 KiB\n",
      "23/07/12 19:06:07 WARN DAGScheduler: Broadcasting large task binary with size 1163.2 KiB\n",
      "23/07/12 19:06:07 WARN DAGScheduler: Broadcasting large task binary with size 1163.2 KiB\n",
      "23/07/12 19:06:07 WARN DAGScheduler: Broadcasting large task binary with size 1163.2 KiB\n",
      "23/07/12 19:06:08 WARN DAGScheduler: Broadcasting large task binary with size 1163.2 KiB\n",
      "23/07/12 19:06:08 WARN DAGScheduler: Broadcasting large task binary with size 1163.2 KiB\n",
      "23/07/12 19:06:08 WARN DAGScheduler: Broadcasting large task binary with size 1163.2 KiB\n",
      "23/07/12 19:06:08 WARN DAGScheduler: Broadcasting large task binary with size 1163.2 KiB\n",
      "23/07/12 19:06:08 WARN DAGScheduler: Broadcasting large task binary with size 1163.2 KiB\n",
      "23/07/12 19:06:08 WARN DAGScheduler: Broadcasting large task binary with size 1163.2 KiB\n",
      "23/07/12 19:06:09 WARN DAGScheduler: Broadcasting large task binary with size 1256.2 KiB\n"
     ]
    }
   ],
   "source": [
    "lr_model=lr.fit(training)"
   ]
  },
  {
   "cell_type": "code",
   "execution_count": 39,
   "id": "24785e46",
   "metadata": {},
   "outputs": [
    {
     "name": "stderr",
     "output_type": "stream",
     "text": [
      "23/07/12 19:06:20 WARN DAGScheduler: Broadcasting large task binary with size 1257.2 KiB\n"
     ]
    }
   ],
   "source": [
    "final_results=lr_model.evaluate(test)"
   ]
  },
  {
   "cell_type": "code",
   "execution_count": 40,
   "id": "7734a14e",
   "metadata": {},
   "outputs": [
    {
     "name": "stderr",
     "output_type": "stream",
     "text": [
      "23/07/12 19:06:44 WARN DAGScheduler: Broadcasting large task binary with size 1254.7 KiB\n"
     ]
    },
    {
     "name": "stdout",
     "output_type": "stream",
     "text": [
      "+--------------------+\n",
      "|           residuals|\n",
      "+--------------------+\n",
      "|-0.03133317639596479|\n",
      "| 0.08366514075614026|\n",
      "|0.027960859691103717|\n",
      "|-1.11505836002494...|\n",
      "|-0.01136103079217...|\n",
      "|-0.03127397699565...|\n",
      "|-0.14471220950340588|\n",
      "|0.039593017447342026|\n",
      "| 0.08352035682637764|\n",
      "|0.003793111605047207|\n",
      "|0.005804623070251057|\n",
      "|-0.02094489775988382|\n",
      "|-0.01754431121504...|\n",
      "|-7.25721264120522...|\n",
      "|-0.00196778197805...|\n",
      "|-0.00158996110681...|\n",
      "|-0.01616657304876...|\n",
      "|-9.38754233634764...|\n",
      "|-0.05892532182827735|\n",
      "|-0.12973929482398422|\n",
      "+--------------------+\n",
      "only showing top 20 rows\n",
      "\n"
     ]
    }
   ],
   "source": [
    "final_results.residuals.show()"
   ]
  },
  {
   "cell_type": "code",
   "execution_count": 41,
   "id": "07f7f9bd",
   "metadata": {},
   "outputs": [
    {
     "data": {
      "text/plain": [
       "0.1516867503194918"
      ]
     },
     "execution_count": 41,
     "metadata": {},
     "output_type": "execute_result"
    }
   ],
   "source": [
    "final_results.rootMeanSquaredError"
   ]
  },
  {
   "cell_type": "code",
   "execution_count": 42,
   "id": "72cf8426",
   "metadata": {},
   "outputs": [
    {
     "data": {
      "text/plain": [
       "0.7952903272920879"
      ]
     },
     "execution_count": 42,
     "metadata": {},
     "output_type": "execute_result"
    }
   ],
   "source": [
    "final_results.r2\n"
   ]
  },
  {
   "cell_type": "code",
   "execution_count": null,
   "id": "3f07980b",
   "metadata": {},
   "outputs": [],
   "source": []
  }
 ],
 "metadata": {
  "kernelspec": {
   "display_name": "Python 3 (ipykernel)",
   "language": "python",
   "name": "python3"
  },
  "language_info": {
   "codemirror_mode": {
    "name": "ipython",
    "version": 3
   },
   "file_extension": ".py",
   "mimetype": "text/x-python",
   "name": "python",
   "nbconvert_exporter": "python",
   "pygments_lexer": "ipython3",
   "version": "3.10.6"
  }
 },
 "nbformat": 4,
 "nbformat_minor": 5
}
